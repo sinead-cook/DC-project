{
 "cells": [
  {
   "cell_type": "code",
   "execution_count": 5,
   "metadata": {
    "collapsed": false
   },
   "outputs": [],
   "source": [
    "import os\n",
    "os.chdir('/Users/Sinead/DC-project/')\n",
    "import script"
   ]
  },
  {
   "cell_type": "code",
   "execution_count": 79,
   "metadata": {
    "collapsed": false
   },
   "outputs": [],
   "source": [
    "PrePathDicom = '/Volumes/Backup Data/ASDH Samples/Sample1/Pre-operative/R-N11-109/HeadSpi  1.0  J40s  3'\n",
    "PostPathDicom = '/Volumes/Backup Data/ASDH Samples/Sample1/Post-operative/R-N11-109/HeadSpi  1.0  J40s  3'\n",
    "#array_400_900=script.threshim(400,'none',PathDicom)\n",
    "#array_400_none=script.threshim(400,'none',PathDicom)\n",
    "#array_400_900=script.vtk2np(array_400_900, PathDicom)\n",
    "#array_400_none=script.vtk2np(array_400_none,PathDicom)\n",
    "pre_700=script.threshim(700,'none',PrePathDicom)\n",
    "pre_700=script.vtk2np(pre_700,PrePathDicom)\n",
    "post_700=script.threshim(700,'none',PostPathDicom)\n",
    "post_700=script.vtk2np(post_700,PostPathDicom)"
   ]
  },
  {
   "cell_type": "code",
   "execution_count": 80,
   "metadata": {
    "collapsed": false,
    "scrolled": false
   },
   "outputs": [
    {
     "data": {
      "image/png": "[encoded data removed]",
      "text/plain": [
       "<matplotlib.figure.Figure at 0x126c03450>"
      ]
     },
     "metadata": {},
     "output_type": "display_data"
    }
   ],
   "source": [
    "reload(script)\n",
    "fig1 = script.pyheatmap(post_700,100,3)"
   ]
  },
  {
   "cell_type": "code",
   "execution_count": 152,
   "metadata": {
    "collapsed": false
   },
   "outputs": [
    {
     "name": "stdout",
     "output_type": "stream",
     "text": [
      "[[ 253.   54.]\n",
      " [ 254.   54.]\n",
      " [ 255.   54.]\n",
      " ..., \n",
      " [ 289.  450.]\n",
      " [ 290.  450.]\n",
      " [ 291.  450.]]\n"
     ]
    }
   ],
   "source": [
    "x = indices[1]\n",
    "y = indices[0]\n",
    "points = np.zeros((len(indices[1]),2))\n",
    "for i in range(len(indices[1])):\n",
    "    points[i, 0] = x[i]\n",
    "    points[i, 1] = y[i]\n",
    "print points"
   ]
  },
  {
   "cell_type": "code",
   "execution_count": 160,
   "metadata": {
    "collapsed": false
   },
   "outputs": [
    {
     "name": "stdout",
     "output_type": "stream",
     "text": [
      "Cos: -61 => -0.495264323533, Sin: 107 => 0.868742338001\n",
      "Conic form    = 4124.0000x^2 + -12926.0000xy + 12169.0000y^2 + -4598.0000x + 10482.0000y + 12011.0000\n",
      "Conic form 2  = 239033690.0000x^2 + 0.0000xy + 8115950.0000y^2 + 1403852.3814x + -147676.6981y + 12011.0000\n",
      "Elliptical form: Center = [0, -2], Radii = [4294967295L, 4294967295L], Angle = -1.06375792675\n",
      "\n"
     ]
    }
   ],
   "source": [
    "import numpy as np\n",
    "import b2ac.preprocess\n",
    "import b2ac.fit\n",
    "import b2ac.conversion\n",
    "\n",
    "#points = np.array([[3, 0], [0, 5], [3, 10], [6, 5]])\n",
    "\n",
    "# Optional removal of mean value from points to obtain better\n",
    "# fitting performance, especially in integer precision. \n",
    "#points, x_mean, y_mean = b2ac.preprocess.remove_mean_values(points)\n",
    "\n",
    "# Fit using NumPy methods in double precision.\n",
    "conic_numpy = b2ac.fit.fit_improved_B2AC_numpy(points)\n",
    "# Fit using own written methods in double precision.\n",
    "conic_double = b2ac.fit.fit_improved_B2AC_double(points)\n",
    "# Fit using own written methods in 64-bit integer precision.\n",
    "conic_int = b2ac.fit.fit_improved_B2AC_int(points)\n",
    "\n",
    "# Convert from conic coefficient form to general ellipse form.\n",
    "general_form_numpy = b2ac.conversion.conic_to_general_1(conic_numpy)\n",
    "general_form_numpy[0][0] += x_mean\n",
    "general_form_numpy[0][1] += y_mean\n",
    "\n",
    "general_form_double = b2ac.conversion.conic_to_general_1(conic_double)\n",
    "general_form_double[0][0] += x_mean\n",
    "general_form_double[0][1] += y_mean\n",
    "\n",
    "general_form_int = b2ac.conversion.conic_to_general_int(conic_int, verbose=True)\n",
    "general_form_int[0][0] += x_mean\n",
    "general_form_int[0][1] += y_mean\n"
   ]
  },
  {
   "cell_type": "code",
   "execution_count": 161,
   "metadata": {
    "collapsed": false
   },
   "outputs": [
    {
     "data": {
      "image/png": "[encoded data removed]",
      "text/plain": [
       "<matplotlib.figure.Figure at 0x124531b90>"
      ]
     },
     "metadata": {},
     "output_type": "display_data"
    },
    {
     "name": "stdout",
     "output_type": "stream",
     "text": [
      "-60.9488396264\n"
     ]
    }
   ],
   "source": [
    "a = conic_numpy[0]\n",
    "b = conic_numpy[1]\n",
    "c = conic_numpy[2]\n",
    "d = conic_numpy[3]\n",
    "e = conic_numpy[4]\n",
    "f = conic_numpy[5]\n",
    "\n",
    "import numpy as np\n",
    "import matplotlib.pyplot as plt\n",
    "\n",
    "y = np.linspace(0,512)\n",
    "x = np.linspace(0,512)\n",
    "\n",
    "x,y = np.meshgrid(x,y)\n",
    "\n",
    "plt.contour(x,y,(a*x**2 + b*x*y + c*y**2 + d*x + e*y + f),[0])\n",
    "plt.plot(indices[1],indices[0], '.')\n",
    "plt.axis('equal')\n",
    "plt.show()\n",
    "\n",
    "print(-1.06375792675/(2*np.pi)*360)\n",
    "\n"
   ]
  },
  {
   "cell_type": "code",
   "execution_count": null,
   "metadata": {
    "collapsed": true
   },
   "outputs": [],
   "source": []
  }
 ],
 "metadata": {
  "anaconda-cloud": {},
  "kernelspec": {
   "display_name": "Python [default]",
   "language": "python",
   "name": "python2"
  },
  "language_info": {
   "codemirror_mode": {
    "name": "ipython",
    "version": 2
   },
   "file_extension": ".py",
   "mimetype": "text/x-python",
   "name": "python",
   "nbconvert_exporter": "python",
   "pygments_lexer": "ipython2",
   "version": "2.7.12"
  }
 },
 "nbformat": 4,
 "nbformat_minor": 1
}
