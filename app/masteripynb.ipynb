{
 "cells": [
  {
   "cell_type": "code",
   "execution_count": 116,
   "metadata": {
    "collapsed": false
   },
   "outputs": [],
   "source": [
    "import os\n",
    "os.chdir('/Volumes/SINEADUSB/DC-project/app')\n",
    "import matplotlib\n",
    "import matplotlib\n",
    "matplotlib.use(\"TkAgg\")\n",
    "import matplotlib.pyplot as plt\n",
    "from tkinter import Tk\n",
    "from tkFileDialog import askopenfilename\n",
    "import numpy as np\n",
    "import findeyes\n",
    "import nibabel as nib\n",
    "import scandata\n",
    "import core\n",
    "import SimpleITK as sitk\n",
    "import masterscript\n",
    "import ui_startupdlg\n",
    "from PyQt4.QtCore import *\n",
    "from PyQt4.QtGui import *\n",
    "import scipy\n",
    "from scipy.ndimage.interpolation import rotate\n",
    "\n",
    "import numpy as np\n",
    "import core\n",
    "import pylab as plt\n",
    "import nibabel as nib\n",
    "import os\n",
    "from skimage import filters\n",
    "import scipy.ndimage as ndi\n",
    "from scipy.ndimage.morphology import binary_erosion as be\n",
    "from scipy.ndimage.morphology import binary_fill_holes as bfh\n",
    "from scipy.ndimage.morphology import binary_dilation as bd\n",
    "from scipy.ndimage.morphology import binary_opening as bo\n",
    "from scipy.ndimage.morphology import binary_closing as bc\n",
    "from scipy.ndimage.morphology import grey_dilation as gd\n",
    "import time\n",
    "from skimage.segmentation import find_boundaries as boundaries\n",
    "import skimage\n",
    "import SimpleITK as sitk"
   ]
  },
  {
   "cell_type": "code",
   "execution_count": 122,
   "metadata": {
    "collapsed": false
   },
   "outputs": [
    {
     "data": {
      "text/plain": [
       "<module 'scandata' from 'scandata.py'>"
      ]
     },
     "execution_count": 122,
     "metadata": {},
     "output_type": "execute_result"
    }
   ],
   "source": [
    "reload(scandata)"
   ]
  },
  {
   "cell_type": "code",
   "execution_count": 118,
   "metadata": {
    "collapsed": false
   },
   "outputs": [],
   "source": [
    "import ui_startupdlg\n",
    "class startup:\n",
    "    def __init__(self, fopen=None, parent=None):\n",
    "            super(StartupDlg, self).__init__(parent)\n",
    "            self.setupUi(self)\n",
    "\n",
    "            self.scan = scandata.Scan() \n",
    "\n",
    "            self.progressTextBox.setText(\"Check desired options and select a scan\")\n",
    "\n",
    "            if fopen is not None:\n",
    "                self.fileOpen\n",
    "\n",
    "            self.pushButtonSelectScan.clicked.connect(self.fileOpen)\n",
    "            self.pushButtonGo.clicked.connect(self.analysis)\n",
    "\n",
    "def fileOpen(self):     \n",
    "    self.path = str(QFileDialog.getOpenFileName(self, filter=scandata.Scan.formats()))\n",
    "    if self.path is not str():\n",
    "        self.pushButtonGo.setEnabled(True)\n",
    "        self.progressTextBox.setText(\"Press Go to start analysis\")"
   ]
  },
  {
   "cell_type": "code",
   "execution_count": 119,
   "metadata": {
    "collapsed": false
   },
   "outputs": [
    {
     "data": {
      "text/plain": [
       "'*.dcm *.nii *.nii.gz *.nrrd'"
      ]
     },
     "execution_count": 119,
     "metadata": {},
     "output_type": "execute_result"
    }
   ],
   "source": [
    "scandata.Scan.formats()"
   ]
  },
  {
   "cell_type": "code",
   "execution_count": 158,
   "metadata": {
    "collapsed": true
   },
   "outputs": [],
   "source": [
    "class master:\n",
    "    def setup(self):\n",
    "        self.scan = scandata.Scan()\n",
    "        self.mask = scandata.Mask()\n",
    "    \n",
    "    def selectScan(self):\n",
    "        root = Tk()\n",
    "        # ask for scan file\n",
    "        # we don't want a full GUI, so keep the root window from appearing\n",
    "#         root.withdraw() \n",
    "        root.update()\n",
    "        self.scan.path = askopenfilename()\n",
    "        root.quit()\n",
    "        root.destroy()\n",
    "        \n",
    "    def analyse(self):\n",
    "        if self.scan.path.endswith('.nii') or self.scan.path.endswith('.nii.gz') or self.scan.path.endswith('nrrd'):\n",
    "            self.scan.image        = sitk.ReadImage(self.scan.path)\n",
    "            self.scan.array        = np.swapaxes(sitk.GetArrayFromImage(self.scan.image), 0, 2)\n",
    "            self.scan.pixelspacing = self.scan.image.GetSpacing()\n",
    "            self.scan.bone         = core.thresholdnp(self.scan.array, 1100, 1500)\n",
    "            self.scan.softtissue   = core.thresholdnp(self.scan.array, 0, 80)\n",
    "\n",
    "        elif self.scan.path.endswith('.dcm'):\n",
    "            pathHead               = os.path.split(self.scan.path)[0]\n",
    "            reader                 = sitk.ImageSeriesReader()\n",
    "            dicomNames             = reader.GetGDCMSeriesFileNames(pathHead)\n",
    "            reader.SetFileNames(dicomNames)\n",
    "            self.scan.image        = reader.Execute()\n",
    "            self.scan.array        = np.swapaxes(sitk.GetArrayFromImage(self.scan.image), 0, 2)\n",
    "            self.scan.pixelspacing = self.scan.image.GetSpacing()\n",
    "            self.scan.bone         = core.thresholdnp(self.scan.array, 900, 1500)\n",
    "            self.scan.softtissue   = core.thresholdnp(self.scan.array, 0, 80)\n",
    "\n",
    "        print 'Finished reading in scan. Starting reshaping...','\\n'\n",
    "\n",
    "        # reshape the numpy arrays so that they are isotropic (for circle detection)\n",
    "        bone       = core.reshape(self.scan.bone, self.scan.pixelspacing)\n",
    "        softtissue = core.reshape(self.scan.softtissue, self.scan.pixelspacing)\n",
    "\n",
    "        print 'Reshaping Complete. Starting midplane finder, finding eyes...','\\n'\n",
    "\n",
    "        # find the eyes.\n",
    "        # histogram data of the number of circles detected in the scans in a given geometric space (the scan is split into 100 cubes). The histogram data covers circles in 3 directions (the frequencies are summed together).\n",
    "        H, edges, histData2   = findeyes.hist3dAll(softtissue)\n",
    "        # firstEyeRange, secondEyeRange contains the geometric space of the eyes (in the coordinate system we are currently using)\n",
    "        firstEyeRange, secondEyeRange, certainty  = findeyes.ranges(H,edges)\n",
    "        # we can now find the coordinates of the center of the eyes, using the histogram data\n",
    "        c1Reshaped,c2Reshaped = findeyes.coords(histData2, firstEyeRange, secondEyeRange)\n",
    "        # these coordinates (c1Reshaped etc.) are in the reshaped, isotropic coordinate system. The coordinates of the eyes in the original coordinate system of the CT scan are in c1 and c2.\n",
    "        \n",
    "        cc = 0.5*(c1Reshaped + c2Reshaped)\n",
    "        xcoord = cc[1]\n",
    "        ycoord = cc[0]\n",
    "        c1, c2 = np.divide(c1Reshaped, self.scan.pixelspacing), np.divide(c2Reshaped, self.scan.pixelspacing)\n",
    "\n",
    "        # adjusting so that c1 is always less than c2 in the x coordinate, if the eyes are in the upper half of the scan\n",
    "        # adjusting so that c1 is always greater than c2 in the x coordinate, if the eyes are in the lower half of the scan\n",
    "\n",
    "        # upper half \n",
    "        if xcoord>=bone.shape[0]/2:\n",
    "            if c1[1]<c2[1]: # x coords of c1\n",
    "                pass \n",
    "            else: \n",
    "                temp = c2Reshaped\n",
    "                c2Reshaped = c1Reshaped\n",
    "                c1Reshaped = temp\n",
    "        # lower half \n",
    "        else:\n",
    "            if c1[1]>c2[1]: # x coords of c1\n",
    "                temp = c2Reshaped\n",
    "                c2Reshaped = c1Reshaped\n",
    "                c1Reshaped = temp \n",
    "            else: \n",
    "                pass\n",
    "        print 'Eyes found. Finding skew of the scan...','\\n'\n",
    "\n",
    "        ccReshaped = 0.5*(c1Reshaped+c2Reshaped)\n",
    "        angle1, angle2 = findeyes.anglesFromEyes(c1Reshaped, c2Reshaped, bone.shape)\n",
    "        \n",
    "        self.scan.eyes = np.divide(c1Reshaped, self.scan.pixelspacing), np.divide(c2Reshaped, self.scan.pixelspacing)\n",
    "        \n",
    "        while angle1<=-45: #skews are never that big\n",
    "            angle1 = angle1+90\n",
    "\n",
    "        while angle1>=45: #skews are never that big\n",
    "            angle1 = angle1-90\n",
    "        print 'Skew found. Rotating scan to correct skew...','\\n'\n",
    "\n",
    "        rotatedSofttissue = rotate(softtissue, -angle1, mode='nearest', axes=(0,2)) # want angle1 to be 90\n",
    "\n",
    "        rotatedBone = rotate(bone, -angle1, mode='nearest', axes=(0,2)) # want angle1 to be 90\n",
    "        # rotatedBone = rotate(rotatedBone1, rotAngle, mode='nearest', axes=(0,2))\n",
    "        print 'Scan rotated. Finding eyes again in rotated scan...','\\n'\n",
    "\n",
    "        # Find Eyes Again\n",
    "        H, edges, histData2 = findeyes.hist3dAll(rotatedSofttissue)\n",
    "        firstEyeRange, secondEyeRange, certainty  = findeyes.ranges(H,edges)\n",
    "        c1ReshapedRotated, c2ReshapedRotated = findeyes.coords(histData2, firstEyeRange, secondEyeRange)        \n",
    "\n",
    "        print 'Eyes found in rotated scan. Finding ellipses in rotated scan...','\\n'\n",
    "\n",
    "        angs, xcentroids, ycentroids = core.ellipses(rotatedBone)\n",
    "        # 'unreshaping' the results, so that the midplane will fit the original array\n",
    "        # the slices of interest and their corresponding angles \n",
    "        slices, sliceAngles = core.selectEllipsesRange(angs)\n",
    "        # the coordinates of the centroids of the ellipses in the slices of interest\n",
    "        headx = [xcentroids[i] for i in slices] \n",
    "        heady = [ycentroids[i] for i in slices] \n",
    "        print 'Ellipses found in rotated scan, finding midplane normal in rotated scan...','\\n'\n",
    "\n",
    "        # find the normal of the midplane in the rotated system\n",
    "        a,b,c,d,reshapedNormal = core.findPlaneFromEllipses(rotatedBone, c1ReshapedRotated, c2ReshapedRotated, slices, headx, heady, sliceAngles)\n",
    "\n",
    "        def f(params, args):\n",
    "            # optimisation function for finding the transformation between the original\n",
    "            # and reshaped & rotated coordinate systems\n",
    "\n",
    "            a,b,c,d,e,f,h,i,j = params\n",
    "            vector =  args[0][0]\n",
    "            comparison = args[1][0]\n",
    "\n",
    "            T = np.asarray([[a, b, c],\n",
    "                            [d, e, f],\n",
    "                            [h, i, j]])\n",
    "\n",
    "            v1 = np.dot(T, vector)\n",
    "\n",
    "            v2 = comparison\n",
    "            diff = np.linalg.norm(v1-v2)\n",
    "            return diff\n",
    "        \n",
    "        print 'Transform normal in rotated scan to original coordinates ...','\\n'\n",
    "\n",
    "        # swap c1ReshapedRotated, c2ReshapedRotated if necessary\n",
    "        if np.linalg.norm(c1ReshapedRotated-c1Reshaped)>np.linalg.norm(c2ReshapedRotated-c2Reshaped):\n",
    "            temp = c1ReshapedRotated\n",
    "            c1ReshapedRotated = c2ReshapedRotated\n",
    "            c2ReshapedRotated = temp\n",
    "        else:\n",
    "            pass\n",
    "        \n",
    "        crr = (c1ReshapedRotated-c2ReshapedRotated)\n",
    "        cr  = (c1Reshaped-c2Reshaped)\n",
    "        \n",
    "        c = np.divide(cr, self.scan.pixelspacing)\n",
    "\n",
    "        x = scipy.optimize.minimize(f,([1,0,0,0,1,0,0,0,1]), args=([[crr], [c]]))\n",
    "\n",
    "        a,b,c,d,e,f,h,i,j = x.x\n",
    "\n",
    "        T = np.asarray([[a, b, c],\n",
    "                        [d, e, f],\n",
    "                        [h, i, j]])\n",
    "\n",
    "        normal = np.dot(T, reshapedNormal)\n",
    "        normal = np.divide(normal, np.linalg.norm(normal))\n",
    "\n",
    "        a,b,c = normal\n",
    "        coord = 0.5*(c1+c2)\n",
    "        d = np.dot(normal, coord)\n",
    "        self.scan.params = a,b,c,d\n",
    "        print 'Midplane found for original coordinates. Saving midplane mask...','\\n'\n",
    "\n",
    "        crossShape = self.scan.bone[:,:,0].shape\n",
    "        self.mask.midplane = np.zeros(self.scan.bone.shape)\n",
    "\n",
    "        if abs(normal[1])>abs(normal[0]):\n",
    "            print 0\n",
    "            for i in range(self.scan.bone.shape[2]):\n",
    "                z = i\n",
    "                mask1 = np.fromfunction(lambda x,y: y > (d-c*i-a*x)/b-2, crossShape)\n",
    "                mask2 = np.fromfunction(lambda x,y: y < (d-c*i-a*x)/b+2, crossShape)\n",
    "                maski = np.multiply(mask1, mask2)\n",
    "                self.mask.midplane[:,:,i] = maski\n",
    "\n",
    "        if abs(normal[1])<abs(normal[0]):\n",
    "            print 1\n",
    "            for i in range(self.scan.bone.shape[2]):\n",
    "                z = i\n",
    "                mask1 = np.fromfunction(lambda x,y: x > ((d-z*c-y*b)/a-2), crossShape)\n",
    "                mask2 = np.fromfunction(lambda x,y: x < ((d-z*c-y*b)/a+2), crossShape)\n",
    "                maski = np.multiply(mask1, mask2)\n",
    "                self.mask.midplane[:,:,i] = maski\n",
    "\n",
    "        print 'Midplane mask created.','\\n'\n",
    "\n",
    "m = master()"
   ]
  },
  {
   "cell_type": "code",
   "execution_count": 159,
   "metadata": {
    "collapsed": false
   },
   "outputs": [],
   "source": [
    "m.setup()\n",
    "m.selectScan() # this will create the path to the scan"
   ]
  },
  {
   "cell_type": "code",
   "execution_count": 160,
   "metadata": {
    "collapsed": false,
    "scrolled": false
   },
   "outputs": [
    {
     "name": "stdout",
     "output_type": "stream",
     "text": [
      "/Volumes/SINEADUSB/DC-project/Pre_op_general_scan.nii\n",
      "Finished reading in scan. Starting reshaping... \n",
      "\n",
      "Reshaping Complete. Starting midplane finder, finding eyes... \n",
      "\n",
      "Optimization terminated successfully.\n",
      "         Current function value: -32.316415\n",
      "         Iterations: 41\n",
      "         Function evaluations: 82\n",
      "Optimization terminated successfully.\n",
      "         Current function value: -55.499154\n",
      "         Iterations: 42\n",
      "         Function evaluations: 84\n",
      "Eyes found. Finding skew of the scan... \n",
      "\n",
      "Skew found. Rotating scan to correct skew... \n",
      "\n",
      "Scan rotated. Finding eyes again in rotated scan... \n",
      "\n",
      "Optimization terminated successfully.\n",
      "         Current function value: -25.546814\n",
      "         Iterations: 41\n",
      "         Function evaluations: 82\n",
      "Warning: Maximum number of function evaluations has been exceeded.\n",
      "Eyes found in rotated scan. Finding ellipses in rotated scan... \n",
      "\n",
      "Ellipses found in rotated scan, finding midplane normal in rotated scan... \n",
      "\n",
      "\n",
      "Using eyes to find midplane, as ellipses were unreliable \n",
      "\n",
      "Transform normal in rotated scan to original coordinates ... \n",
      "\n",
      "Midplane found for original coordinates. Saving midplane mask... \n",
      "\n",
      "1\n",
      "Midplane mask saved. \n",
      "\n"
     ]
    }
   ],
   "source": [
    "print m.scan.path\n",
    "m.analyse()"
   ]
  },
  {
   "cell_type": "code",
   "execution_count": null,
   "metadata": {
    "collapsed": true
   },
   "outputs": [],
   "source": [
    "m.scan.midplane"
   ]
  },
  {
   "cell_type": "code",
   "execution_count": 47,
   "metadata": {
    "collapsed": false
   },
   "outputs": [],
   "source": [
    "import nipype.interfaces.fsl as fsl\n",
    "\n"
   ]
  },
  {
   "cell_type": "code",
   "execution_count": 48,
   "metadata": {
    "collapsed": true
   },
   "outputs": [],
   "source": [
    "# m.analyse = analyse \n",
    "# # this is just for the ipynb notebook. in the final script, the function \"analyse\" needs \n",
    "# # to be in the class \"master\""
   ]
  },
  {
   "cell_type": "code",
   "execution_count": 49,
   "metadata": {
    "collapsed": false
   },
   "outputs": [
    {
     "ename": "AttributeError",
     "evalue": "master instance has no attribute 'scan'",
     "output_type": "error",
     "traceback": [
      "\u001b[0;31m---------------------------------------------------------------------------\u001b[0m",
      "\u001b[0;31mAttributeError\u001b[0m                            Traceback (most recent call last)",
      "\u001b[0;32m<ipython-input-49-0f219d5fec25>\u001b[0m in \u001b[0;36m<module>\u001b[0;34m()\u001b[0m\n\u001b[0;32m----> 1\u001b[0;31m \u001b[0mm\u001b[0m\u001b[0;34m.\u001b[0m\u001b[0manalyse\u001b[0m\u001b[0;34m(\u001b[0m\u001b[0;34m)\u001b[0m\u001b[0;34m\u001b[0m\u001b[0m\n\u001b[0m",
      "\u001b[0;32m<ipython-input-44-8746e8c26189>\u001b[0m in \u001b[0;36manalyse\u001b[0;34m(self)\u001b[0m\n\u001b[1;32m     12\u001b[0m     \u001b[0;32mdef\u001b[0m \u001b[0manalyse\u001b[0m\u001b[0;34m(\u001b[0m\u001b[0mself\u001b[0m\u001b[0;34m)\u001b[0m\u001b[0;34m:\u001b[0m\u001b[0;34m\u001b[0m\u001b[0m\n\u001b[1;32m     13\u001b[0m         \u001b[0;32mif\u001b[0m \u001b[0mself\u001b[0m\u001b[0;34m.\u001b[0m\u001b[0mpath\u001b[0m\u001b[0;34m.\u001b[0m\u001b[0mendswith\u001b[0m\u001b[0;34m(\u001b[0m\u001b[0;34m'.nii'\u001b[0m\u001b[0;34m)\u001b[0m \u001b[0;32mor\u001b[0m \u001b[0mself\u001b[0m\u001b[0;34m.\u001b[0m\u001b[0mpath\u001b[0m\u001b[0;34m.\u001b[0m\u001b[0mendswith\u001b[0m\u001b[0;34m(\u001b[0m\u001b[0;34m'.nii.gz'\u001b[0m\u001b[0;34m)\u001b[0m \u001b[0;32mor\u001b[0m \u001b[0mself\u001b[0m\u001b[0;34m.\u001b[0m\u001b[0mpath\u001b[0m\u001b[0;34m.\u001b[0m\u001b[0mendswith\u001b[0m\u001b[0;34m(\u001b[0m\u001b[0;34m'nrrd'\u001b[0m\u001b[0;34m)\u001b[0m\u001b[0;34m:\u001b[0m\u001b[0;34m\u001b[0m\u001b[0m\n\u001b[0;32m---> 14\u001b[0;31m             \u001b[0mself\u001b[0m\u001b[0;34m.\u001b[0m\u001b[0mscan\u001b[0m\u001b[0;34m.\u001b[0m\u001b[0mimage\u001b[0m        \u001b[0;34m=\u001b[0m \u001b[0msitk\u001b[0m\u001b[0;34m.\u001b[0m\u001b[0mReadImage\u001b[0m\u001b[0;34m(\u001b[0m\u001b[0mself\u001b[0m\u001b[0;34m.\u001b[0m\u001b[0mpath\u001b[0m\u001b[0;34m)\u001b[0m\u001b[0;34m\u001b[0m\u001b[0m\n\u001b[0m\u001b[1;32m     15\u001b[0m             \u001b[0mself\u001b[0m\u001b[0;34m.\u001b[0m\u001b[0mscan\u001b[0m\u001b[0;34m.\u001b[0m\u001b[0marray\u001b[0m        \u001b[0;34m=\u001b[0m \u001b[0mnp\u001b[0m\u001b[0;34m.\u001b[0m\u001b[0mswapaxes\u001b[0m\u001b[0;34m(\u001b[0m\u001b[0msitk\u001b[0m\u001b[0;34m.\u001b[0m\u001b[0mGetArrayFromImage\u001b[0m\u001b[0;34m(\u001b[0m\u001b[0mimage\u001b[0m\u001b[0;34m)\u001b[0m\u001b[0;34m,\u001b[0m \u001b[0;36m0\u001b[0m\u001b[0;34m,\u001b[0m \u001b[0;36m2\u001b[0m\u001b[0;34m)\u001b[0m\u001b[0;34m\u001b[0m\u001b[0m\n\u001b[1;32m     16\u001b[0m             \u001b[0mself\u001b[0m\u001b[0;34m.\u001b[0m\u001b[0mscan\u001b[0m\u001b[0;34m.\u001b[0m\u001b[0mpixelspacing\u001b[0m \u001b[0;34m=\u001b[0m \u001b[0mimage\u001b[0m\u001b[0;34m.\u001b[0m\u001b[0mGetSpacing\u001b[0m\u001b[0;34m(\u001b[0m\u001b[0;34m)\u001b[0m\u001b[0;34m\u001b[0m\u001b[0m\n",
      "\u001b[0;31mAttributeError\u001b[0m: master instance has no attribute 'scan'"
     ]
    }
   ],
   "source": [
    "m.analyse()"
   ]
  },
  {
   "cell_type": "code",
   "execution_count": null,
   "metadata": {
    "collapsed": true
   },
   "outputs": [],
   "source": []
  }
 ],
 "metadata": {
  "kernelspec": {
   "display_name": "Python 2",
   "language": "python",
   "name": "python2"
  },
  "language_info": {
   "codemirror_mode": {
    "name": "ipython",
    "version": 2
   },
   "file_extension": ".py",
   "mimetype": "text/x-python",
   "name": "python",
   "nbconvert_exporter": "python",
   "pygments_lexer": "ipython2",
   "version": "2.7.13"
  }
 },
 "nbformat": 4,
 "nbformat_minor": 1
}
