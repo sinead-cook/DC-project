{
 "cells": [
  {
   "cell_type": "code",
   "execution_count": 2,
   "metadata": {
    "collapsed": false
   },
   "outputs": [],
   "source": [
    "import numpy as np\n",
    "import core\n",
    "import pylab as plt\n",
    "import nibabel as nib\n",
    "import os\n",
    "from skimage import filters\n",
    "import scipy.ndimage as ndi\n",
    "from scipy.ndimage.morphology import binary_erosion as be\n",
    "from scipy.ndimage.morphology import binary_fill_holes as bfh\n",
    "from scipy.ndimage.morphology import binary_dilation as bd\n",
    "from scipy.ndimage.morphology import binary_opening as bo\n",
    "from scipy.ndimage.morphology import binary_closing as bc\n",
    "from scipy.ndimage.morphology import grey_dilation as gd\n",
    "import time\n",
    "from skimage.segmentation import find_boundaries as boundaries\n",
    "import skimage\n",
    "import SimpleITK as sitk"
   ]
  },
  {
   "cell_type": "code",
   "execution_count": 3,
   "metadata": {
    "collapsed": true
   },
   "outputs": [],
   "source": [
    "import nipype.interfaces.fsl as fsl\n",
    "\n",
    "def extract(thresholded):\n",
    "    img = nib.Nifti1Image(thresholded, np.eye(4))\n",
    "    nib.save(img, 'temp.nii.gz')\n",
    "    img = nib.load('temp.nii.gz')\n",
    "    mybet = fsl.BET()\n",
    "    result = mybet.run(in_file='temp.nii.gz', out_file='BET-temp.nii.gz', frac=0.1)\n",
    "    img = nib.load('BET-temp.nii.gz')\n",
    "    data = img.get_data()\n",
    "    return data"
   ]
  },
  {
   "cell_type": "code",
   "execution_count": 12,
   "metadata": {
    "collapsed": true
   },
   "outputs": [],
   "source": [
    "def saveMask(array, path, name):\n",
    "    mask = array.astype(np.float64)\n",
    "    mask = np.swapaxes(mask, 0, 1)\n",
    "    img = nib.Nifti1Image(mask, affine)\n",
    "    savePath = os.path.join(os.path.split(path)[0], '{}.nii.gz'.format(name))\n",
    "    nib.save(img, savePath)"
   ]
  },
  {
   "cell_type": "code",
   "execution_count": 36,
   "metadata": {
    "collapsed": true
   },
   "outputs": [],
   "source": [
    "info = []\n",
    "distance = []\n",
    "planes = np.load('/Volumes/SINEADUSB/Scans/planes-params.npy')"
   ]
  },
  {
   "cell_type": "code",
   "execution_count": 37,
   "metadata": {
    "collapsed": true
   },
   "outputs": [],
   "source": [
    "paths = ['/Volumes/SINEADUSB/Scans/ScanB/1.3.12.2.1107.5.1.4.51967.30000014110308064564000003547.dcm', \n",
    "        '/Volumes/SINEADUSB/DC-Project-Images/original/Sample2/S2_Post-op.nrrd',\n",
    "        '/Volumes/SINEADUSB/Scans/ScanD/1.3.12.2.1107.5.1.4.95198.30000015040208110913600035431.dcm',\n",
    "        '/Volumes/SINEADUSB/Scans/ScanE/1.3.12.2.1107.5.1.4.95198.30000015040208110913600035427.dcm',\n",
    "        '/Volumes/SINEADUSB/Scans/ScanF/1.3.12.2.1107.5.1.4.95198.30000015061008243097400047435.dcm',\n",
    "        '/Volumes/SINEADUSB/Scans/ScanG/1.3.12.2.1107.5.1.4.95198.30000015051507521609300034665.dcm',\n",
    "        '/Volumes/SINEADUSB/Scans/ScanH/1.3.12.2.1107.5.1.4.95198.30000015072708211605400036461.dcm',\n",
    "        '/Volumes/SINEADUSB/Scans/ScanI/1.3.12.2.1107.5.1.4.95198.30000015071109310409300075672.dcm',\n",
    "        '/Volumes/SINEADUSB/Scans/ScanJ/1.2.392.200036.9116.2.6.1.48.1221600807.1432222434.802585.dcm']"
   ]
  },
  {
   "cell_type": "code",
   "execution_count": 288,
   "metadata": {
    "collapsed": true
   },
   "outputs": [],
   "source": [
    "pixelspacing = []"
   ]
  },
  {
   "cell_type": "code",
   "execution_count": 289,
   "metadata": {
    "collapsed": false
   },
   "outputs": [
    {
     "name": "stdout",
     "output_type": "stream",
     "text": [
      "iteration number 0\n",
      "iteration number 1\n",
      "iteration number 2\n",
      "iteration number 3\n",
      "iteration number 4\n",
      "iteration number 5\n",
      "iteration number 6\n",
      "iteration number 7\n",
      "iteration number 8\n"
     ]
    }
   ],
   "source": [
    "for pathnumber in range(len(paths)):\n",
    "    path = paths[pathnumber]\n",
    "    print 'iteration number', pathnumber\n",
    "\n",
    "    if path.endswith('.nii') or path.endswith('.nii.gz'):\n",
    "        array, ConstPixelSpacing, affine = core.nifti2np(path)\n",
    "        bone = core.thresholdnp(array, 1100, 1500)\n",
    "        softtissue  = core.thresholdnp(array, 0, 80)\n",
    "\n",
    "    elif path.endswith('.dcm'):\n",
    "        array, ConstPixelSpacing, origin, path, affine = core.dicom2np(path)\n",
    "        bone = core.thresholdnp(array, 900, 1500)\n",
    "        softtissue  = core.thresholdnp(array, 0, 80)\n",
    "\n",
    "    elif path.endswith('.nrrd'):\n",
    "        array, ConstPixelSpacing, affine = core.nrrd2np(path)\n",
    "    #     array=np.swapaxes(array, 1, 2)\n",
    "        bone = core.thresholdnp(array, 1100, 1500)\n",
    "        softtissue  = core.thresholdnp(array, 0, 80)\n",
    "    \n",
    "    pixelspacing.append(ConstPixelSpacing)\n",
    "\n",
    "    # skin\n",
    "    skin_mask = array\n",
    "\n",
    "    skin_mask = np.multiply(skin_mask, (array>-200).astype(int))\n",
    "    array1 = np.multiply(skin_mask, (skin_mask>0.0).astype(int))\n",
    "    array1 = np.multiply(array1, (array1>-200).astype(int))\n",
    "\n",
    "    # skull\n",
    "    skull_mask = array1>84.0\n",
    "    array2 = np.multiply(array1, (array1<84.0).astype(int))\n",
    "\n",
    "    # orbital\n",
    "    orbital_mask = skull_mask\n",
    "\n",
    "    for i in range(5):\n",
    "        orbital_mask = bd(skull_mask)\n",
    "\n",
    "    array3 = np.multiply(array2, (orbital_mask==False).astype(int))\n",
    "\n",
    "    # cerebral ventricle\n",
    "    array4 = np.multiply(array3, (array3>0.0).astype(int))\n",
    "\n",
    "    # BET FSL\n",
    "    array5 = extract(array4)\n",
    "    brain_mask = np.multiply(bc(bfh(bd(array5))).astype(int), array5)\n",
    "\n",
    "    # get ventricles\n",
    "    ventr_mask1 = np.multiply((brain_mask>0).astype(int), (brain_mask<22).astype(int))\n",
    "    ventr_mask2 = bd(ventr_mask1)\n",
    "    ventr_mask3 = be(ventr_mask2)\n",
    "    ventr_mask4 = bd(ventr_mask3)\n",
    "\n",
    "    import skimage\n",
    "\n",
    "    ventr_loop = ventr_mask3\n",
    "\n",
    "    for i in range(4):\n",
    "        labels = skimage.measure.label(ventr_loop, connectivity=3)\n",
    "        props = skimage.measure.regionprops(labels)\n",
    "        v = [p.area for p in props]\n",
    "        ind = v.index(max(v))\n",
    "        vcoords = props[ind].coords\n",
    "        ventr_loop = np.zeros((array.shape))\n",
    "        for i in range(len(vcoords)):\n",
    "            a,b,c = vcoords[i]\n",
    "            ventr_loop[a,b,c]=1\n",
    "        ventr_loop = bd(be(ventr_loop))\n",
    "        \n",
    "    labels = skimage.measure.label(ventr_loop, connectivity=1)\n",
    "    props = skimage.measure.regionprops(labels)\n",
    "    v = [p.area for p in props]\n",
    "    ind = v.index(max(v))\n",
    "    vcoords = props[ind].coords\n",
    "    ventr_loop = np.zeros((array.shape))\n",
    "    for i in range(len(vcoords)):\n",
    "        a,b,c = vcoords[i]\n",
    "        ventr_loop[a,b,c]=1\n",
    "        \n",
    "    ventr_loop = bd(be(ventr_loop))\n",
    "\n",
    "    v_mask = bfh(ventr_loop)\n",
    "    \n",
    "    saveMask(v_mask, path, 'vmask')\n",
    "\n",
    "    # get haematoma\n",
    "\n",
    "    h_mask = (array5>50.0).astype(float)*1000\n",
    "    array6 = np.multiply(brain_mask, h_mask)\n",
    "    array7 = be(array6)\n",
    "    array8 = bc((array7))\n",
    "    array9 = bfh((array8))\n",
    "    array10 = bd(bd((array8)))\n",
    "    array11 = bfh(bd(array10))\n",
    "    import skimage\n",
    "\n",
    "    h_loop = array11\n",
    "\n",
    "    for i in range(4):\n",
    "        labels = skimage.measure.label(h_loop, connectivity=3)\n",
    "        props = skimage.measure.regionprops(labels)\n",
    "        h = [p.area for p in props]\n",
    "        ind = h.index(max(h))\n",
    "        hcoords = props[ind].coords\n",
    "        h_loop = np.zeros((array.shape))\n",
    "        for i in range(len(hcoords)):\n",
    "            a,b,c = hcoords[i]\n",
    "            h_loop[a,b,c]=1\n",
    "        h_loop = bd(be(h_loop))\n",
    "        \n",
    "    labels = skimage.measure.label(h_loop, connectivity=1)\n",
    "    props = skimage.measure.regionprops(labels)\n",
    "    h = [p.area for p in props]\n",
    "    ind = h.index(max(h))\n",
    "    hcoords = props[ind].coords\n",
    "    h_loop = np.zeros((array.shape))\n",
    "    for i in range(len(hcoords)):\n",
    "        a,b,c = hcoords[i]\n",
    "        h_loop[a,b,c]=1\n",
    "    h_loop = bd(be(h_loop))\n",
    "    \n",
    "    h_mask = bfh(h_loop)\n",
    "\n",
    "    saveMask(h_mask, path, 'hmask')\n",
    "\n",
    "    # volumes analysis\n",
    "    plane = planes[pathnumber]\n",
    "    a,b,c,d = plane[1:].astype(np.float64)\n",
    "\n",
    "    normal = [a,b,c]\n",
    "\n",
    "    i= 0\n",
    "    crossShape = array[:,:,i].shape\n",
    "    mask = np.zeros(array.shape)\n",
    "\n",
    "    if np.argmax(normal)==1:\n",
    "        print 0\n",
    "        for i in range(bone.shape[2]):\n",
    "            z = i\n",
    "            maski = np.fromfunction(lambda x,y: y > (d-c*i-a*x)/b, crossShape)\n",
    "            mask[:,:,i] = maski\n",
    "\n",
    "    if np.argmax(normal)==0:\n",
    "        print 1\n",
    "        for i in range(bone.shape[2]):\n",
    "            z = i\n",
    "            maski = np.fromfunction(lambda x,y: x > ((d-z*c-y*b)/a), crossShape)\n",
    "            mask[:,:,i] = maski\n",
    "\n",
    "    midplane_split = np.swapaxes(mask, 0, 1)\n",
    "\n",
    "    v_mask = (v_mask).astype(int)\n",
    "    h_mask = (h_mask).astype(int)\n",
    "\n",
    "    left_h = np.multiply(h_mask, midplane_split==0)\n",
    "    right_h = np.multiply(h_mask, midplane_split==1)\n",
    "    \n",
    "    saveMask(left_h, path, 'lefth')\n",
    "    saveMask(right_h, path, 'righth')\n",
    "\n",
    "    left_v = np.multiply(v_mask, midplane_split==0)\n",
    "    right_v = np.multiply(v_mask, midplane_split==1)\n",
    "    \n",
    "    saveMask(left_v, path, 'leftv')\n",
    "    saveMask(right_v, path, 'rightv')\n",
    "\n",
    "    brain = np.multiply(brain_mask, (h_mask==0).astype(int)) # no haematoma\n",
    "    brain_mask = np.multiply(brain_mask, (h_mask==0).astype(int)) # no haematoma\n",
    "    brain_mask = (brain_mask!=0).astype(int)\n",
    "    \n",
    "    saveMask(brain, path, 'brain')\n",
    "    saveMask(brain_mask, path, 'brainmask')\n",
    "\n",
    "    left_brain = np.multiply(brain, midplane_split==0)\n",
    "    right_brain = np.multiply(brain, midplane_split==1)\n",
    "    \n",
    "\n",
    "    left_brain_mask = np.multiply(brain_mask, midplane_split==0)\n",
    "    right_brain_mask = np.multiply(brain_mask, midplane_split==1)\n",
    "\n",
    "    saveMask(left_brain_mask, path, 'leftbrainmask')\n",
    "    saveMask(right_brain_mask, path, 'rightbrainmask')\n",
    "    \n",
    "    # Ventricle Analysis\n",
    "    brainArea = []\n",
    "    for i in range(brain_mask.shape[2]):\n",
    "        brainArea.append(np.count_nonzero(brain_mask[:,:,i]))\n",
    "    midsliceIndex = np.argmax(brainArea)\n",
    "\n",
    "    # check that there is ventricle at the midsliceIndex\n",
    "\n",
    "    if (np.nonzero(v_mask[:,:,midsliceIndex]) == 0) != False:\n",
    "        print 'using vArea for vcentroid'\n",
    "        vArea = []\n",
    "        for i in range(brain_mask.shape[2]):\n",
    "            vArea.append(np.count_nonzero(v_mask[:,:,i]))\n",
    "        midsliceIndex = np.argmax(vArea)\n",
    "\n",
    "    i = midsliceIndex\n",
    "\n",
    "    nonzeros = np.nonzero(np.nan_to_num(v_mask[:,:,i]))\n",
    "    w2, w1 = np.mean(nonzeros[0]), np.mean(nonzeros[1])\n",
    "\n",
    "    left_h_vol = (left_h[left_h!=0]).size*np.prod(ConstPixelSpacing)\n",
    "    right_h_vol = (right_h[right_h!=0]).size*np.prod(ConstPixelSpacing)\n",
    "    left_brain_vol = (left_brain[left_brain!=0]).size*np.prod(ConstPixelSpacing)\n",
    "    right_brain_vol = (right_brain[right_brain!=0]).size*np.prod(ConstPixelSpacing)\n",
    "    left_ventr_vol = (left_v[left_v!=0]).size*np.prod(ConstPixelSpacing)\n",
    "    right_ventr_vol = (right_v[right_v!=0]).size*np.prod(ConstPixelSpacing)\n",
    "\n",
    "    dirname = os.path.split(os.path.dirname(path))[1]\n",
    "    \n",
    "    info.append((dirname, 'w1 = {}'.format(w1), 'w2 = {}'.format(w2),\n",
    "                 'w3 = {}'.format(midsliceIndex),\n",
    "                 'Volume of haematoma on LHS is {}'.format(left_h_vol),\n",
    "                 'Volume of haematoma on RHS is {}'.format(right_h_vol),\n",
    "                 'Volume of brain on LHS is {}'.format(left_brain_vol),\n",
    "                 'Volume of brain on RHS is {}'.format(right_brain_vol),\n",
    "                 'Volume of CSF in ventricles on LHS is {}'.format(left_ventr_vol),\n",
    "                 'Volume of CSF in ventricles on RHS is {}'.format(right_ventr_vol)))\n",
    "    \n",
    "    normal = np.linalg.norm(normal)\n",
    "    vcentroid = np.array([w1, w2, midsliceIndex])\n",
    "    pointOnPlane = np.array([0, 0, d/c])\n",
    "    dist = np.dot(normal, vcentroid - pointOnPlane)\n",
    "    dist = dist*ConstPixelSpacing\n",
    "    dist = np.linalg.norm(dist)\n",
    "    distance.append(('dirname distance is', dist))\n",
    "    \n",
    "    print info[pathnumber]"
   ]
  },
  {
   "cell_type": "code",
   "execution_count": 41,
   "metadata": {
    "collapsed": false
   },
   "outputs": [
    {
     "data": {
      "text/plain": [
       "[('ScanB',\n",
       "  'w1 = 287.118632928',\n",
       "  'w2 = 253.708675649',\n",
       "  'w3 = 66',\n",
       "  'Volume of haematoma on LHS is 101216.934341',\n",
       "  'Volume of haematoma on RHS is 11828.987111',\n",
       "  'Volume of brain on LHS is 736982.079215',\n",
       "  'Volume of brain on RHS is 774164.849771',\n",
       "  'Volume of CSF in ventricles on LHS is 19655.0864758',\n",
       "  'Volume of CSF in ventricles on RHS is 32386.77633'),\n",
       " ('ScanB',\n",
       "  'w1 = 287.118632928',\n",
       "  'w2 = 253.708675649',\n",
       "  'w3 = 66',\n",
       "  'Volume of haematoma on LHS is 101216.934341',\n",
       "  'Volume of haematoma on RHS is 11828.987111',\n",
       "  'Volume of brain on LHS is 736982.079215',\n",
       "  'Volume of brain on RHS is 774164.849771',\n",
       "  'Volume of CSF in ventricles on LHS is 19655.0864758',\n",
       "  'Volume of CSF in ventricles on RHS is 32386.77633'),\n",
       " ('Sample2',\n",
       "  'w1 = 220.927403784',\n",
       "  'w2 = 366.780924186',\n",
       "  'w3 = 101',\n",
       "  'Volume of haematoma on LHS is 43892.5965088',\n",
       "  'Volume of haematoma on RHS is 39246.1122982',\n",
       "  'Volume of brain on LHS is 679274.483825',\n",
       "  'Volume of brain on RHS is 848060.476879',\n",
       "  'Volume of CSF in ventricles on LHS is 37244.4547894',\n",
       "  'Volume of CSF in ventricles on RHS is 123139.664592'),\n",
       " ('ScanD',\n",
       "  'w1 = 191.02003643',\n",
       "  'w2 = 320.4571949',\n",
       "  'w3 = 143',\n",
       "  'Volume of haematoma on LHS is 115727.039044',\n",
       "  'Volume of haematoma on RHS is 198377.927985',\n",
       "  'Volume of brain on LHS is 641773.596167',\n",
       "  'Volume of brain on RHS is 456423.773853',\n",
       "  'Volume of CSF in ventricles on LHS is 10753.0690552',\n",
       "  'Volume of CSF in ventricles on RHS is 0.0'),\n",
       " ('ScanE',\n",
       "  'w1 = 283.015558699',\n",
       "  'w2 = 273.035360679',\n",
       "  'w3 = 133',\n",
       "  'Volume of haematoma on LHS is 134980.357764',\n",
       "  'Volume of haematoma on RHS is 112227.658978',\n",
       "  'Volume of brain on LHS is 550216.671954',\n",
       "  'Volume of brain on RHS is 594399.415018',\n",
       "  'Volume of CSF in ventricles on LHS is 0.0',\n",
       "  'Volume of CSF in ventricles on RHS is 5686.71255341'),\n",
       " ('ScanF',\n",
       "  'w1 = 230.221339387',\n",
       "  'w2 = 312.945516459',\n",
       "  'w3 = 171',\n",
       "  'Volume of haematoma on LHS is 187272.880737',\n",
       "  'Volume of haematoma on RHS is 217398.705713',\n",
       "  'Volume of brain on LHS is 588976.933911',\n",
       "  'Volume of brain on RHS is 469169.655151',\n",
       "  'Volume of CSF in ventricles on LHS is 35429.4141113',\n",
       "  'Volume of CSF in ventricles on RHS is 399.744091797'),\n",
       " ('ScanG',\n",
       "  'w1 = 201.665690223',\n",
       "  'w2 = 284.084401318',\n",
       "  'w3 = 95',\n",
       "  'Volume of haematoma on LHS is 246983.550873',\n",
       "  'Volume of haematoma on RHS is 251702.691193',\n",
       "  'Volume of brain on LHS is 352995.935059',\n",
       "  'Volume of brain on RHS is 464473.573303',\n",
       "  'Volume of CSF in ventricles on LHS is 161.164703369',\n",
       "  'Volume of CSF in ventricles on RHS is 50756.4129639'),\n",
       " ('ScanH',\n",
       "  'w1 = 198.899636243',\n",
       "  'w2 = 300.962136243',\n",
       "  'w3 = 67',\n",
       "  'Volume of haematoma on LHS is 1369.99526848',\n",
       "  'Volume of haematoma on RHS is 127947.013745',\n",
       "  'Volume of brain on LHS is 632069.698226',\n",
       "  'Volume of brain on RHS is 586192.899823',\n",
       "  'Volume of CSF in ventricles on LHS is 47122.1555816',\n",
       "  'Volume of CSF in ventricles on RHS is 26.6167584387'),\n",
       " ('ScanI',\n",
       "  'w1 = 217.325083426',\n",
       "  'w2 = 271.697997775',\n",
       "  'w3 = 148',\n",
       "  'Volume of haematoma on LHS is 101937.869074',\n",
       "  'Volume of haematoma on RHS is 182656.218085',\n",
       "  'Volume of brain on LHS is 635979.020608',\n",
       "  'Volume of brain on RHS is 480200.835186',\n",
       "  'Volume of CSF in ventricles on LHS is 17375.4041096',\n",
       "  'Volume of CSF in ventricles on RHS is 0.0'),\n",
       " ('ScanJ',\n",
       "  'w1 = 257.762151653',\n",
       "  'w2 = 358.186001296',\n",
       "  'w3 = 72',\n",
       "  'Volume of haematoma on LHS is 27522.940928',\n",
       "  'Volume of haematoma on RHS is 105592.38144',\n",
       "  'Volume of brain on LHS is 641716.117504',\n",
       "  'Volume of brain on RHS is 455693.815808',\n",
       "  'Volume of CSF in ventricles on LHS is 15712.313344',\n",
       "  'Volume of CSF in ventricles on RHS is 0.0')]"
      ]
     },
     "execution_count": 41,
     "metadata": {},
     "output_type": "execute_result"
    }
   ],
   "source": [
    "info"
   ]
  },
  {
   "cell_type": "code",
   "execution_count": 406,
   "metadata": {
    "collapsed": false
   },
   "outputs": [],
   "source": [
    "pixelspacing = np.load('pixelspacings.npy')"
   ]
  },
  {
   "cell_type": "code",
   "execution_count": 407,
   "metadata": {
    "collapsed": false
   },
   "outputs": [],
   "source": [
    "pixelspacing[1] = pixelspacing[0]\n",
    "pixelspacing = pixelspacing[1:]"
   ]
  },
  {
   "cell_type": "code",
   "execution_count": 408,
   "metadata": {
    "collapsed": false
   },
   "outputs": [],
   "source": [
    "pixelspacing = np.array(pixelspacing)"
   ]
  },
  {
   "cell_type": "code",
   "execution_count": 409,
   "metadata": {
    "collapsed": false
   },
   "outputs": [],
   "source": [
    "coords = np.array([[287.12, 253.71, 66.0],\n",
    "            [191.02, 320.46, 143.00],\n",
    "            [283.02, 273.04, 133.00],\n",
    "            [230.22, 312.95, 171.00],\n",
    "            [201.67, 284.08, 95.00],\n",
    "            [198.90, 300.96, 67.00],\n",
    "            [217.33, 271.70, 148.00],\n",
    "            [257.76, 358.19, 72.00]])\n",
    "\n",
    "np.save('coords.npy', coords)"
   ]
  },
  {
   "cell_type": "code",
   "execution_count": 410,
   "metadata": {
    "collapsed": true
   },
   "outputs": [],
   "source": [
    "a_s = planes.T[1]\n",
    "b_s = planes.T[2]\n",
    "c_s = planes.T[3]\n",
    "d_s = planes.T[4]\n",
    "\n",
    "abcd = np.vstack((b_s, a_s, c_s, d_s)).T.astype(np.float64)\n",
    "abcd[1] = abcd[0]\n",
    "abcd = abcd[1:]\n",
    "\n",
    "normals = abcd.T[:3].T"
   ]
  },
  {
   "cell_type": "code",
   "execution_count": 411,
   "metadata": {
    "collapsed": false
   },
   "outputs": [],
   "source": [
    "planepoints = []\n",
    "for i in range(len(coords)):\n",
    "    y = 100\n",
    "    z = 100\n",
    "    a,b,c,d = abcd[i]\n",
    "    planepoints = np.array([(d-100*c-100*b)/a,y,z])"
   ]
  },
  {
   "cell_type": "code",
   "execution_count": 412,
   "metadata": {
    "collapsed": false
   },
   "outputs": [
    {
     "data": {
      "text/plain": [
       "array([[ 0.05263394,  0.98944927, -0.13498078],\n",
       "       [-0.13811027,  0.9860496 , -0.09290717],\n",
       "       [ 0.00415838,  0.99647491, -0.08378816],\n",
       "       [ 0.24268522,  0.95917059, -0.14524343],\n",
       "       [ 0.03986113, -0.99887776, -0.02557946],\n",
       "       [ 0.02699172,  0.99703744, -0.07202635],\n",
       "       [-0.14140657,  0.98873267, -0.04911089],\n",
       "       [-0.32279577,  0.93849006, -0.12263484]])"
      ]
     },
     "execution_count": 412,
     "metadata": {},
     "output_type": "execute_result"
    }
   ],
   "source": [
    "normals"
   ]
  },
  {
   "cell_type": "code",
   "execution_count": 413,
   "metadata": {
    "collapsed": true
   },
   "outputs": [],
   "source": [
    "diffs = planepoints - coords"
   ]
  },
  {
   "cell_type": "code",
   "execution_count": 414,
   "metadata": {
    "collapsed": false
   },
   "outputs": [
    {
     "data": {
      "text/plain": [
       "array([[-610.82776326, -153.71      ,   34.        ],\n",
       "       [-514.72776326, -220.46      ,  -43.        ],\n",
       "       [-606.72776326, -173.04      ,  -33.        ],\n",
       "       [-553.92776326, -212.95      ,  -71.        ],\n",
       "       [-525.37776326, -184.08      ,    5.        ],\n",
       "       [-522.60776326, -200.96      ,   33.        ],\n",
       "       [-541.03776326, -171.7       ,  -48.        ],\n",
       "       [-581.46776326, -258.19      ,   28.        ]])"
      ]
     },
     "execution_count": 414,
     "metadata": {},
     "output_type": "execute_result"
    }
   ],
   "source": [
    "diffs"
   ]
  },
  {
   "cell_type": "code",
   "execution_count": 415,
   "metadata": {
    "collapsed": false
   },
   "outputs": [],
   "source": [
    "diffs = np.multiply(diffs, pixelspacing)\n",
    "normals = np.multiply(normals, pixelspacing)\n"
   ]
  },
  {
   "cell_type": "code",
   "execution_count": 418,
   "metadata": {
    "collapsed": true
   },
   "outputs": [],
   "source": [
    "dist = []\n",
    "for i in range(len(diffs)):\n",
    "    normals[i] = np.divide(normals[i],np.linalg.norm(normals[i]))\n",
    "    dist.append(np.dot(diffs[i], normals[i]))"
   ]
  },
  {
   "cell_type": "code",
   "execution_count": 422,
   "metadata": {
    "collapsed": false
   },
   "outputs": [],
   "source": [
    "info1= info"
   ]
  },
  {
   "cell_type": "code",
   "execution_count": 423,
   "metadata": {
    "collapsed": false
   },
   "outputs": [],
   "source": [
    "info = np.load('info.npy')"
   ]
  },
  {
   "cell_type": "code",
   "execution_count": null,
   "metadata": {
    "collapsed": true
   },
   "outputs": [],
   "source": [
    "#info contains the scan information"
   ]
  },
  {
   "cell_type": "code",
   "execution_count": null,
   "metadata": {
    "collapsed": true
   },
   "outputs": [],
   "source": [
    "# iteration number 0\n",
    "# ('ScanB', 'w1 = 296.916473318', 'w2 = 285.568909513', 'Volume of haematoma on LHS is 113045.921452', 'Volume of haematoma on RHS is 0.0', 'Volume of brain on LHS is 1511146.92899', 'Volume of brain on RHS is 0.0', 'Volume of CSF in ventricles on LHS is 52041.8628058', 'Volume of CSF in ventricles on RHS is 0.0')\n",
    "# iteration number 1\n",
    "# ('Sample2', 'w1 = 216.252382818', 'w2 = 365.106084345', 'Volume of haematoma on LHS is 53385.9175234', 'Volume of haematoma on RHS is 29752.7912837', 'Volume of brain on LHS is 792523.571614', 'Volume of brain on RHS is 734811.38909', 'Volume of CSF in ventricles on LHS is 57757.5996118', 'Volume of CSF in ventricles on RHS is 102626.519769')\n",
    "# iteration number 2\n",
    "# ('ScanD', 'w1 = 194.920262664', 'w2 = 286.572701689', 'Volume of haematoma on LHS is 56344.5232178', 'Volume of haematoma on RHS is 257760.443811', 'Volume of brain on LHS is 240650.449213', 'Volume of brain on RHS is 857546.920807', 'Volume of CSF in ventricles on LHS is 3839.02203979', 'Volume of CSF in ventricles on RHS is 6914.04701538')\n",
    "# iteration number 3"
   ]
  }
 ],
 "metadata": {
  "kernelspec": {
   "display_name": "Python 2",
   "language": "python",
   "name": "python2"
  },
  "language_info": {
   "codemirror_mode": {
    "name": "ipython",
    "version": 2
   },
   "file_extension": ".py",
   "mimetype": "text/x-python",
   "name": "python",
   "nbconvert_exporter": "python",
   "pygments_lexer": "ipython2",
   "version": "2.7.13"
  }
 },
 "nbformat": 4,
 "nbformat_minor": 1
}
