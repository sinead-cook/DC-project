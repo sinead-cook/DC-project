{
 "cells": [
  {
   "cell_type": "markdown",
   "metadata": {},
   "source": [
    "# Notebook to test app objects\n",
    "\n",
    "- need tkinter (python 2) and PyQt4 to run\n",
    "\n",
    "- need a way to build PyQt4 from source (e.g. XCode on Mac)\n",
    "\n",
    "- install PyQt4 from: https://riverbankcomputing.com/software/pyqt/download"
   ]
  },
  {
   "cell_type": "code",
   "execution_count": 5,
   "metadata": {},
   "outputs": [],
   "source": [
    "import os\n",
    "import sys\n",
    "sys.path.append('../src')\n",
    "import matplotlib\n",
    "import matplotlib\n",
    "matplotlib.use(\"TkAgg\")\n",
    "import matplotlib.pyplot as plt\n",
    "from Tkinter import Tk\n",
    "from tkFileDialog import askopenfilename\n",
    "import numpy as np\n",
    "import findeyes\n",
    "import nibabel as nib\n",
    "import scandata\n",
    "import core\n",
    "import SimpleITK as sitk\n",
    "import masterscript\n",
    "import ui_startupdlg\n",
    "from PyQt4.QtCore import *\n",
    "from PyQt4.QtGui import *\n",
    "import scipy\n",
    "from scipy.ndimage.interpolation import rotate\n",
    "\n",
    "import core\n",
    "import pylab as plt\n",
    "import nibabel as nib\n",
    "import os\n",
    "from skimage import filters\n",
    "import scipy.ndimage as ndi\n",
    "from scipy.ndimage.morphology import binary_erosion as be\n",
    "from scipy.ndimage.morphology import binary_fill_holes as bfh\n",
    "from scipy.ndimage.morphology import binary_dilation as bd\n",
    "from scipy.ndimage.morphology import binary_opening as bo\n",
    "from scipy.ndimage.morphology import binary_closing as bc\n",
    "from scipy.ndimage.morphology import grey_dilation as gd\n",
    "import time\n",
    "from skimage.segmentation import find_boundaries as boundaries\n",
    "import skimage\n",
    "import SimpleITK as sitk\n",
    "import nibabel as nib"
   ]
  },
  {
   "cell_type": "code",
   "execution_count": 16,
   "metadata": {},
   "outputs": [],
   "source": [
    "path = '/DC-project/pre-op-scan.nii'"
   ]
  },
  {
   "cell_type": "code",
   "execution_count": null,
   "metadata": {
    "collapsed": true
   },
   "outputs": [],
   "source": [
    "img = sitk.ReadImage(path)\n",
    "array = sitk.GetArrayFromImage(img)"
   ]
  },
  {
   "cell_type": "code",
   "execution_count": 25,
   "metadata": {},
   "outputs": [
    {
     "name": "stdout",
     "output_type": "stream",
     "text": [
      "(0.4609375, 0.4609375, 0.4609375)\n"
     ]
    }
   ],
   "source": [
    "spacing = img.GetSpacing()\n",
    "print spacing"
   ]
  },
  {
   "cell_type": "code",
   "execution_count": 23,
   "metadata": {},
   "outputs": [
    {
     "name": "stdout",
     "output_type": "stream",
     "text": [
      "(431, 513, 513)\n"
     ]
    },
    {
     "ename": "SystemExit",
     "evalue": "0",
     "output_type": "error",
     "traceback": [
      "An exception has occurred, use %tb to see the full traceback.\n",
      "\u001b[0;31mSystemExit\u001b[0m\u001b[0;31m:\u001b[0m 0\n"
     ]
    }
   ],
   "source": [
    "print array.shape\n",
    "plt.clf()\n",
    "plt.imshow(array[:,:,100])\n",
    "plt.show()"
   ]
  },
  {
   "cell_type": "code",
   "execution_count": 54,
   "metadata": {},
   "outputs": [],
   "source": [
    "img = nib.load(path)\n",
    "array =  np.swapaxes(img.get_data(),0,2)"
   ]
  },
  {
   "cell_type": "code",
   "execution_count": 48,
   "metadata": {},
   "outputs": [
    {
     "name": "stdout",
     "output_type": "stream",
     "text": [
      "[ 0.4609375  0.4609375  0.4609375]\n"
     ]
    }
   ],
   "source": [
    "header = img.header\n",
    "spacing = img.header['pixdim'][1:4]\n",
    "print spacing"
   ]
  },
  {
   "cell_type": "code",
   "execution_count": 45,
   "metadata": {},
   "outputs": [
    {
     "name": "stderr",
     "output_type": "stream",
     "text": [
      "/Users/Sinead/anaconda/envs/project/lib/python2.7/site-packages/ipykernel/__main__.py:1: DeprecationWarning: get_affine method is deprecated.\n",
      "Please use the ``img.affine`` property instead.\n",
      "\n",
      "* deprecated from version: 2.1\n",
      "* Will raise <class 'nibabel.deprecator.ExpiredDeprecationError'> as of version: 4.0\n",
      "  if __name__ == '__main__':\n"
     ]
    },
    {
     "data": {
      "text/plain": [
       "array([[   0.4609375,    0.       ,    0.       , -118.       ],\n",
       "       [   0.       ,    0.4609375,    0.       , -118.       ],\n",
       "       [   0.       ,    0.       ,    0.4609375,  -99.       ],\n",
       "       [   0.       ,    0.       ,    0.       ,    1.       ]])"
      ]
     },
     "execution_count": 45,
     "metadata": {},
     "output_type": "execute_result"
    }
   ],
   "source": [
    "img.get_affine()"
   ]
  },
  {
   "cell_type": "code",
   "execution_count": 57,
   "metadata": {},
   "outputs": [
    {
     "name": "stderr",
     "output_type": "stream",
     "text": [
      "/Users/Sinead/anaconda/envs/project/lib/python2.7/site-packages/ipykernel/__main__.py:2: DeprecationWarning: get_affine method is deprecated.\n",
      "Please use the ``img.affine`` property instead.\n",
      "\n",
      "* deprecated from version: 2.1\n",
      "* Will raise <class 'nibabel.deprecator.ExpiredDeprecationError'> as of version: 4.0\n",
      "  from ipykernel import kernelapp as app\n"
     ]
    },
    {
     "data": {
      "text/plain": [
       "array([[   0.4609375,    0.       ,    0.       , -118.       ],\n",
       "       [   0.       ,    0.4609375,    0.       , -118.       ],\n",
       "       [   0.       ,    0.       ,    0.4609375,  -99.       ],\n",
       "       [   0.       ,    0.       ,    0.       ,    1.       ]])"
      ]
     },
     "execution_count": 57,
     "metadata": {},
     "output_type": "execute_result"
    }
   ],
   "source": [
    "arr =np.zeros(array.shape)\n",
    "img.get_affine()"
   ]
  },
  {
   "cell_type": "code",
   "execution_count": 62,
   "metadata": {},
   "outputs": [],
   "source": [
    "img2 = nib.Nifti1Image(arr, img.affine, img.header)"
   ]
  },
  {
   "cell_type": "code",
   "execution_count": 63,
   "metadata": {},
   "outputs": [
    {
     "ename": "TypeError",
     "evalue": "coercing to Unicode: need string or buffer, Nifti1Image found",
     "output_type": "error",
     "traceback": [
      "\u001b[0;31m---------------------------------------------------------------------------\u001b[0m",
      "\u001b[0;31mTypeError\u001b[0m                                 Traceback (most recent call last)",
      "\u001b[0;32m<ipython-input-63-2078ec8ead9c>\u001b[0m in \u001b[0;36m<module>\u001b[0;34m()\u001b[0m\n\u001b[0;32m----> 1\u001b[0;31m \u001b[0mnib\u001b[0m\u001b[0;34m.\u001b[0m\u001b[0mload\u001b[0m\u001b[0;34m(\u001b[0m\u001b[0mimg2\u001b[0m\u001b[0;34m)\u001b[0m\u001b[0;34m\u001b[0m\u001b[0m\n\u001b[0m",
      "\u001b[0;32m/Users/Sinead/.local/lib/python2.7/site-packages/nibabel/loadsave.pyc\u001b[0m in \u001b[0;36mload\u001b[0;34m(filename, **kwargs)\u001b[0m\n\u001b[1;32m     37\u001b[0m        \u001b[0mImage\u001b[0m \u001b[0mof\u001b[0m \u001b[0mguessed\u001b[0m \u001b[0mtype\u001b[0m\u001b[0;34m\u001b[0m\u001b[0m\n\u001b[1;32m     38\u001b[0m     '''\n\u001b[0;32m---> 39\u001b[0;31m     \u001b[0;32mif\u001b[0m \u001b[0;32mnot\u001b[0m \u001b[0mop\u001b[0m\u001b[0;34m.\u001b[0m\u001b[0mexists\u001b[0m\u001b[0;34m(\u001b[0m\u001b[0mfilename\u001b[0m\u001b[0;34m)\u001b[0m\u001b[0;34m:\u001b[0m\u001b[0;34m\u001b[0m\u001b[0m\n\u001b[0m\u001b[1;32m     40\u001b[0m         \u001b[0;32mraise\u001b[0m \u001b[0mFileNotFoundError\u001b[0m\u001b[0;34m(\u001b[0m\u001b[0;34m\"No such file: '%s'\"\u001b[0m \u001b[0;34m%\u001b[0m \u001b[0mfilename\u001b[0m\u001b[0;34m)\u001b[0m\u001b[0;34m\u001b[0m\u001b[0m\n\u001b[1;32m     41\u001b[0m     \u001b[0msniff\u001b[0m \u001b[0;34m=\u001b[0m \u001b[0mNone\u001b[0m\u001b[0;34m\u001b[0m\u001b[0m\n",
      "\u001b[0;32m/Users/Sinead/anaconda/envs/project/lib/python2.7/genericpath.pyc\u001b[0m in \u001b[0;36mexists\u001b[0;34m(path)\u001b[0m\n\u001b[1;32m     24\u001b[0m     \u001b[0;34m\"\"\"Test whether a path exists.  Returns False for broken symbolic links\"\"\"\u001b[0m\u001b[0;34m\u001b[0m\u001b[0m\n\u001b[1;32m     25\u001b[0m     \u001b[0;32mtry\u001b[0m\u001b[0;34m:\u001b[0m\u001b[0;34m\u001b[0m\u001b[0m\n\u001b[0;32m---> 26\u001b[0;31m         \u001b[0mos\u001b[0m\u001b[0;34m.\u001b[0m\u001b[0mstat\u001b[0m\u001b[0;34m(\u001b[0m\u001b[0mpath\u001b[0m\u001b[0;34m)\u001b[0m\u001b[0;34m\u001b[0m\u001b[0m\n\u001b[0m\u001b[1;32m     27\u001b[0m     \u001b[0;32mexcept\u001b[0m \u001b[0mos\u001b[0m\u001b[0;34m.\u001b[0m\u001b[0merror\u001b[0m\u001b[0;34m:\u001b[0m\u001b[0;34m\u001b[0m\u001b[0m\n\u001b[1;32m     28\u001b[0m         \u001b[0;32mreturn\u001b[0m \u001b[0mFalse\u001b[0m\u001b[0;34m\u001b[0m\u001b[0m\n",
      "\u001b[0;31mTypeError\u001b[0m: coercing to Unicode: need string or buffer, Nifti1Image found"
     ]
    }
   ],
   "source": [
    "nib.load(img2)"
   ]
  },
  {
   "cell_type": "code",
   "execution_count": 5,
   "metadata": {
    "collapsed": true
   },
   "outputs": [],
   "source": [
    "class master:\n",
    "    def setup(self):\n",
    "        self.scan = scandata.Scan()\n",
    "        self.mask = scandata.Mask()\n",
    "    \n",
    "    def selectScan(self):\n",
    "        root = Tk()\n",
    "        # ask for scan file\n",
    "        # we don't want a full GUI, so keep the root window from appearing\n",
    "#         root.withdraw() \n",
    "        root.update()\n",
    "        self.scan.path = askopenfilename()\n",
    "        root.quit()\n",
    "        root.destroy()\n",
    "        \n",
    "    def analyse(self):\n",
    "        if self.scan.path.endswith('.nii') or self.scan.path.endswith('.nii.gz') or self.scan.path.endswith('nrrd'):\n",
    "            self.scan.image        = sitk.ReadImage(self.scan.path)\n",
    "            self.scan.array        = np.swapaxes(sitk.GetArrayFromImage(self.scan.image), 0, 2)\n",
    "            self.scan.pixelspacing = self.scan.image.GetSpacing()\n",
    "            self.scan.bone         = core.thresholdnp(self.scan.array, 1100, 1500)\n",
    "            self.scan.softtissue   = core.thresholdnp(self.scan.array, 0, 80)\n",
    "\n",
    "        elif self.scan.path.endswith('.dcm'):\n",
    "            pathHead               = os.path.split(self.scan.path)[0]\n",
    "            reader                 = sitk.ImageSeriesReader()\n",
    "            dicomNames             = reader.GetGDCMSeriesFileNames(pathHead)\n",
    "            reader.SetFileNames(dicomNames)\n",
    "            self.scan.image        = reader.Execute()\n",
    "            self.scan.array        = np.swapaxes(sitk.GetArrayFromImage(self.scan.image), 0, 2)\n",
    "            self.scan.pixelspacing = self.scan.image.GetSpacing()\n",
    "            self.scan.bone         = core.thresholdnp(self.scan.array, 900, 1500)\n",
    "            self.scan.softtissue   = core.thresholdnp(self.scan.array, 0, 80)\n",
    "\n",
    "        print 'Finished reading in scan. Starting reshaping...','\\n'"
   ]
  },
  {
   "cell_type": "code",
   "execution_count": 5,
   "metadata": {
    "collapsed": true
   },
   "outputs": [],
   "source": [
    "        # reshape the numpy arrays so that they are isotropic (for circle detection)\n",
    "        bone       = core.reshape(self.scan.bone, self.scan.pixelspacing)\n",
    "        softtissue = core.reshape(self.scan.softtissue, self.scan.pixelspacing)\n",
    "\n",
    "        print 'Reshaping Complete. Starting midplane finder, finding eyes...','\\n'\n",
    "\n",
    "        # find the eyes.\n",
    "        # histogram data of the number of circles detected in the scans in a given geometric space (the scan is split into 100 cubes). The histogram data covers circles in 3 directions (the frequencies are summed together).\n",
    "        H, edges, histData2   = findeyes.hist3dAll(softtissue)\n",
    "        # firstEyeRange, secondEyeRange contains the geometric space of the eyes (in the coordinate system we are currently using)\n",
    "        firstEyeRange, secondEyeRange, certainty  = findeyes.ranges(H,edges)\n",
    "        # we can now find the coordinates of the center of the eyes, using the histogram data\n",
    "        c1Reshaped,c2Reshaped = findeyes.coords(histData2, firstEyeRange, secondEyeRange)\n",
    "        # these coordinates (c1Reshaped etc.) are in the reshaped, isotropic coordinate system. The coordinates of the eyes in the original coordinate system of the CT scan are in c1 and c2.\n",
    "        \n",
    "        cc = 0.5*(c1Reshaped + c2Reshaped)\n",
    "        xcoord = cc[1]\n",
    "        ycoord = cc[0]\n",
    "        c1, c2 = np.divide(c1Reshaped, self.scan.pixelspacing), np.divide(c2Reshaped, self.scan.pixelspacing)\n",
    "\n",
    "        # adjusting so that c1 is always less than c2 in the x coordinate, if the eyes are in the upper half of the scan\n",
    "        # adjusting so that c1 is always greater than c2 in the x coordinate, if the eyes are in the lower half of the scan\n",
    "\n",
    "        # upper half \n",
    "        if xcoord>=bone.shape[0]/2:\n",
    "            if c1[1]<c2[1]: # x coords of c1\n",
    "                pass \n",
    "            else: \n",
    "                temp = c2Reshaped\n",
    "                c2Reshaped = c1Reshaped\n",
    "                c1Reshaped = temp\n",
    "        # lower half \n",
    "        else:\n",
    "            if c1[1]>c2[1]: # x coords of c1\n",
    "                temp = c2Reshaped\n",
    "                c2Reshaped = c1Reshaped\n",
    "                c1Reshaped = temp \n",
    "            else: \n",
    "                pass\n",
    "        print 'Eyes found. Finding skew of the scan...','\\n'\n",
    "\n",
    "        ccReshaped = 0.5*(c1Reshaped+c2Reshaped)\n",
    "        angle1, angle2 = findeyes.anglesFromEyes(c1Reshaped, c2Reshaped, bone.shape)\n",
    "        \n",
    "        self.scan.eyes = np.divide(c1Reshaped, self.scan.pixelspacing), np.divide(c2Reshaped, self.scan.pixelspacing)\n",
    "        \n",
    "        while angle1<=-45: #skews are never that big\n",
    "            angle1 = angle1+90\n",
    "\n",
    "        while angle1>=45: #skews are never that big\n",
    "            angle1 = angle1-90\n",
    "        print 'Skew found. Rotating scan to correct skew...','\\n'\n",
    "\n",
    "        rotatedSofttissue = rotate(softtissue, -angle1, mode='nearest', axes=(0,2)) # want angle1 to be 90\n",
    "\n",
    "        rotatedBone = rotate(bone, -angle1, mode='nearest', axes=(0,2)) # want angle1 to be 90\n",
    "        # rotatedBone = rotate(rotatedBone1, rotAngle, mode='nearest', axes=(0,2))\n",
    "        print 'Scan rotated. Finding eyes again in rotated scan...','\\n'\n",
    "\n",
    "        # Find Eyes Again\n",
    "        H, edges, histData2 = findeyes.hist3dAll(rotatedSofttissue)\n",
    "        firstEyeRange, secondEyeRange, certainty  = findeyes.ranges(H,edges)\n",
    "        c1ReshapedRotated, c2ReshapedRotated = findeyes.coords(histData2, firstEyeRange, secondEyeRange)        \n",
    "\n",
    "        print 'Eyes found in rotated scan. Finding ellipses in rotated scan...','\\n'\n",
    "\n",
    "        angs, xcentroids, ycentroids = core.ellipses(rotatedBone)\n",
    "        # 'unreshaping' the results, so that the midplane will fit the original array\n",
    "        # the slices of interest and their corresponding angles \n",
    "        slices, sliceAngles = core.selectEllipsesRange(angs)\n",
    "        # the coordinates of the centroids of the ellipses in the slices of interest\n",
    "        headx = [xcentroids[i] for i in slices] \n",
    "        heady = [ycentroids[i] for i in slices] \n",
    "        print 'Ellipses found in rotated scan, finding midplane normal in rotated scan...','\\n'\n",
    "\n",
    "        # find the normal of the midplane in the rotated system\n",
    "        a,b,c,d,reshapedNormal = core.findPlaneFromEllipses(rotatedBone, c1ReshapedRotated, c2ReshapedRotated, slices, headx, heady, sliceAngles)\n",
    "\n",
    "        def f(params, args):\n",
    "            # optimisation function for finding the transformation between the original\n",
    "            # and reshaped & rotated coordinate systems\n",
    "\n",
    "            a,b,c,d,e,f,h,i,j = params\n",
    "            vector =  args[0][0]\n",
    "            comparison = args[1][0]\n",
    "\n",
    "            T = np.asarray([[a, b, c],\n",
    "                            [d, e, f],\n",
    "                            [h, i, j]])\n",
    "\n",
    "            v1 = np.dot(T, vector)\n",
    "\n",
    "            v2 = comparison\n",
    "            diff = np.linalg.norm(v1-v2)\n",
    "            return diff\n",
    "        \n",
    "        print 'Transform normal in rotated scan to original coordinates ...','\\n'\n",
    "\n",
    "        # swap c1ReshapedRotated, c2ReshapedRotated if necessary\n",
    "        if np.linalg.norm(c1ReshapedRotated-c1Reshaped)>np.linalg.norm(c2ReshapedRotated-c2Reshaped):\n",
    "            temp = c1ReshapedRotated\n",
    "            c1ReshapedRotated = c2ReshapedRotated\n",
    "            c2ReshapedRotated = temp\n",
    "        else:\n",
    "            pass\n",
    "        \n",
    "        crr = (c1ReshapedRotated-c2ReshapedRotated)\n",
    "        cr  = (c1Reshaped-c2Reshaped)\n",
    "        \n",
    "        c = np.divide(cr, self.scan.pixelspacing)\n",
    "\n",
    "        x = scipy.optimize.minimize(f,([1,0,0,0,1,0,0,0,1]), args=([[crr], [c]]))\n",
    "\n",
    "        a,b,c,d,e,f,h,i,j = x.x\n",
    "\n",
    "        T = np.asarray([[a, b, c],\n",
    "                        [d, e, f],\n",
    "                        [h, i, j]])\n",
    "\n",
    "        normal = np.dot(T, reshapedNormal)\n",
    "        normal = np.divide(normal, np.linalg.norm(normal))\n",
    "\n",
    "        a,b,c = normal\n",
    "        coord = 0.5*(c1+c2)\n",
    "        d = np.dot(normal, coord)\n",
    "        self.scan.params = a,b,c,d\n",
    "        print 'Midplane found for original coordinates. Saving midplane mask...','\\n'\n",
    "\n",
    "        crossShape = self.scan.bone[:,:,0].shape\n",
    "        self.mask.midplane = np.zeros(self.scan.bone.shape)\n",
    "\n",
    "        if abs(normal[1])>abs(normal[0]):\n",
    "            print 0\n",
    "            for i in range(self.scan.bone.shape[2]):\n",
    "                z = i\n",
    "                mask1 = np.fromfunction(lambda x,y: y > (d-c*i-a*x)/b-2, crossShape)\n",
    "                mask2 = np.fromfunction(lambda x,y: y < (d-c*i-a*x)/b+2, crossShape)\n",
    "                maski = np.multiply(mask1, mask2)\n",
    "                self.mask.midplane[:,:,i] = maski\n",
    "\n",
    "        if abs(normal[1])<abs(normal[0]):\n",
    "            print 1\n",
    "            for i in range(self.scan.bone.shape[2]):\n",
    "                z = i\n",
    "                mask1 = np.fromfunction(lambda x,y: x > ((d-z*c-y*b)/a-2), crossShape)\n",
    "                mask2 = np.fromfunction(lambda x,y: x < ((d-z*c-y*b)/a+2), crossShape)\n",
    "                maski = np.multiply(mask1, mask2)\n",
    "                self.mask.midplane[:,:,i] = maski\n",
    "\n",
    "        print 'Midplane mask created.','\\n'\n",
    "\n",
    "m = master()"
   ]
  },
  {
   "cell_type": "code",
   "execution_count": 8,
   "metadata": {},
   "outputs": [],
   "source": [
    "m = master()\n",
    "m.setup()\n",
    "m.selectScan() # this will create the path to the scan"
   ]
  }
 ],
 "metadata": {
  "kernelspec": {
   "display_name": "Python 2",
   "language": "python",
   "name": "python2"
  },
  "language_info": {
   "codemirror_mode": {
    "name": "ipython",
    "version": 2
   },
   "file_extension": ".py",
   "mimetype": "text/x-python",
   "name": "python",
   "nbconvert_exporter": "python",
   "pygments_lexer": "ipython2",
   "version": "2.7.16"
  }
 },
 "nbformat": 4,
 "nbformat_minor": 1
}
